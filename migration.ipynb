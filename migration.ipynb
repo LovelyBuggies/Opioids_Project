{
 "cells": [
  {
   "cell_type": "code",
   "execution_count": 1,
   "id": "1dbd1bfd-c7c4-4589-84fd-d7cf2f4869fb",
   "metadata": {},
   "outputs": [],
   "source": [
    "import pandas as pd\n",
    "import numpy as np\n",
    "import matplotlib.pyplot as plt"
   ]
  },
  {
   "cell_type": "code",
   "execution_count": 2,
   "id": "c8457347-296a-48d5-bb08-f1f6929d3a17",
   "metadata": {},
   "outputs": [],
   "source": [
    "data = dict()\n",
    "states = ['Ohio', 'Pennsylvania', 'West Virginia', 'Virginia', 'Kentucky']\n",
    "states.sort()\n",
    "for s in states:\n",
    "    data[s] = pd.read_excel('county-to-county-2011-2015-ins-outs-nets-gross.xlsx',sheet_name=s)\n",
    "\n",
    "population = {\n",
    "    'Ohio': 11536504,\n",
    "    'Pennsylvania': 12702379,\n",
    "    'West Virginia': 1852994,\n",
    "    'Virginia': 8001024,\n",
    "    'Kentucky': 4339333,\n",
    "}"
   ]
  },
  {
   "cell_type": "code",
   "execution_count": 3,
   "id": "b73d2663-c1a3-4da4-b0d3-9ca2e3276653",
   "metadata": {},
   "outputs": [],
   "source": [
    "def mig(data_A, A_population, B):\n",
    "\n",
    "    mig_count = 0\n",
    "    for name, number in zip(data_A['Unnamed: 6'], data_A['Unnamed: 8']):\n",
    "        if name == B:\n",
    "            mig_count += number\n",
    "        \n",
    "    return mig_count / A_population"
   ]
  },
  {
   "cell_type": "code",
   "execution_count": 4,
   "id": "419a6a74-fe8a-4907-a2ed-6cb9f3cd0f04",
   "metadata": {},
   "outputs": [],
   "source": [
    "def calculate_avg_mig(A, B):\n",
    "    data_A = data[A]\n",
    "    A_population = population[A]\n",
    "    data_B = data[B]\n",
    "    B_population = population[B]\n",
    "    mig_avg = (mig(data_A, A_population, B) + mig(data_B, B_population, A)) / 2\n",
    "    return mig_avg"
   ]
  },
  {
   "cell_type": "code",
   "execution_count": 5,
   "id": "c1a96cd7-96fb-4692-92b9-5dd8a28825ce",
   "metadata": {},
   "outputs": [
    {
     "data": {
      "text/plain": [
       "{'Kentucky': {'Ohio': 0.002534966663552242,\n",
       "  'Pennsylvania': 0.0003079073783994705,\n",
       "  'Virginia': 0.0006015156538899991,\n",
       "  'West Virginia': 0.0007315160662077914},\n",
       " 'Ohio': {'Kentucky': 0.002534966663552242,\n",
       "  'Pennsylvania': 0.0011564047005479653,\n",
       "  'Virginia': 0.0006840071357808726,\n",
       "  'West Virginia': 0.0024447623637997924},\n",
       " 'Pennsylvania': {'Kentucky': 0.0003079073783994705,\n",
       "  'Ohio': 0.0011564047005479653,\n",
       "  'Virginia': 0.0012598480473323469,\n",
       "  'West Virginia': 0.0013957645604453207},\n",
       " 'Virginia': {'Kentucky': 0.0006015156538899991,\n",
       "  'Ohio': 0.0006840071357808726,\n",
       "  'Pennsylvania': 0.0012598480473323469,\n",
       "  'West Virginia': 0.0021018499803849735},\n",
       " 'West Virginia': {'Kentucky': 0.0007315160662077914,\n",
       "  'Ohio': 0.0024447623637997924,\n",
       "  'Pennsylvania': 0.0013957645604453207,\n",
       "  'Virginia': 0.0021018499803849735}}"
      ]
     },
     "execution_count": 5,
     "metadata": {},
     "output_type": "execute_result"
    }
   ],
   "source": [
    "# get_mig_rate\n",
    "mig_rate = dict()\n",
    "for A in states:\n",
    "    mig_rate[A] = dict()\n",
    "    for B in states:\n",
    "        if A != B:\n",
    "            mig_rate[A][B] = calculate_avg_mig(A, B)\n",
    "            \n",
    "mig_rate"
   ]
  },
  {
   "cell_type": "code",
   "execution_count": null,
   "id": "ce4d94d3-1303-413f-bcfc-61242f7f7e91",
   "metadata": {},
   "outputs": [],
   "source": []
  },
  {
   "cell_type": "code",
   "execution_count": null,
   "id": "5b10fe72-12ae-4b14-aced-f3efc1c881bf",
   "metadata": {},
   "outputs": [],
   "source": []
  },
  {
   "cell_type": "code",
   "execution_count": null,
   "id": "6c355b35-a992-4e4a-89cd-17fd1b53652f",
   "metadata": {},
   "outputs": [],
   "source": []
  }
 ],
 "metadata": {
  "kernelspec": {
   "display_name": "hist",
   "language": "python",
   "name": "hist"
  },
  "language_info": {
   "codemirror_mode": {
    "name": "ipython",
    "version": 3
   },
   "file_extension": ".py",
   "mimetype": "text/x-python",
   "name": "python",
   "nbconvert_exporter": "python",
   "pygments_lexer": "ipython3",
   "version": "3.9.7"
  }
 },
 "nbformat": 4,
 "nbformat_minor": 5
}
